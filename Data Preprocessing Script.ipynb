{
 "cells": [
  {
   "cell_type": "markdown",
   "id": "8a64756f",
   "metadata": {},
   "source": [
    "# Import Libraries"
   ]
  },
  {
   "cell_type": "code",
   "execution_count": 1,
   "id": "12a854b2",
   "metadata": {},
   "outputs": [],
   "source": [
    "import pandas as pd\n",
    "import nltk\n",
    "import re"
   ]
  },
  {
   "cell_type": "code",
   "execution_count": 2,
   "id": "6a3efe8c",
   "metadata": {},
   "outputs": [],
   "source": [
    "df = pd.read_csv('clothing_data.csv')"
   ]
  },
  {
   "cell_type": "code",
   "execution_count": 3,
   "id": "21f7ca70",
   "metadata": {},
   "outputs": [
    {
     "data": {
      "text/plain": [
       "(26960, 4)"
      ]
     },
     "execution_count": 3,
     "metadata": {},
     "output_type": "execute_result"
    }
   ],
   "source": [
    "df.shape"
   ]
  },
  {
   "cell_type": "code",
   "execution_count": 4,
   "id": "afaa6ff3",
   "metadata": {},
   "outputs": [
    {
     "data": {
      "text/html": [
       "<div>\n",
       "<style scoped>\n",
       "    .dataframe tbody tr th:only-of-type {\n",
       "        vertical-align: middle;\n",
       "    }\n",
       "\n",
       "    .dataframe tbody tr th {\n",
       "        vertical-align: top;\n",
       "    }\n",
       "\n",
       "    .dataframe thead th {\n",
       "        text-align: right;\n",
       "    }\n",
       "</style>\n",
       "<table border=\"1\" class=\"dataframe\">\n",
       "  <thead>\n",
       "    <tr style=\"text-align: right;\">\n",
       "      <th></th>\n",
       "      <th>brand</th>\n",
       "      <th>description</th>\n",
       "      <th>url</th>\n",
       "      <th>img</th>\n",
       "    </tr>\n",
       "  </thead>\n",
       "  <tbody>\n",
       "    <tr>\n",
       "      <th>16591</th>\n",
       "      <td>Fashion market</td>\n",
       "      <td>Sweater Man Boys 2 In1 Colour Nevy Blue Grey S...</td>\n",
       "      <td>https://www.amazon.in/Fashion-market-Sweater-C...</td>\n",
       "      <td>https://m.media-amazon.com/images/I/41tF7GIgYN...</td>\n",
       "    </tr>\n",
       "    <tr>\n",
       "      <th>4470</th>\n",
       "      <td>Mirayya</td>\n",
       "      <td>Women Regular Fit Black Cotton Blend Trousers</td>\n",
       "      <td>https://www.flipkart.com/mirayya-regular-fit-w...</td>\n",
       "      <td>https://rukminim1.flixcart.com/image/612/612/x...</td>\n",
       "    </tr>\n",
       "    <tr>\n",
       "      <th>9738</th>\n",
       "      <td>BLIVE</td>\n",
       "      <td>Men's Round Neck Full Sleeve T-Shirt | Printed...</td>\n",
       "      <td>https://www.amazon.in/BLIVE-Sleeve-T-Shirt-Pri...</td>\n",
       "      <td>https://m.media-amazon.com/images/I/51QeCqn2+9...</td>\n",
       "    </tr>\n",
       "    <tr>\n",
       "      <th>24562</th>\n",
       "      <td>Khadija's</td>\n",
       "      <td>Women's Banarasi Kora Orgenza Silk Saree With ...</td>\n",
       "      <td>https://www.amazon.in/sspa/click?ie=UTF8&amp;spc=M...</td>\n",
       "      <td>https://m.media-amazon.com/images/I/31j+CM8uF8...</td>\n",
       "    </tr>\n",
       "    <tr>\n",
       "      <th>22393</th>\n",
       "      <td>Generic</td>\n",
       "      <td>khanak Fashion Women`S Afgani Suit Set,Grey Fl...</td>\n",
       "      <td>https://www.amazon.in/khanak-Fashion-Women%60S...</td>\n",
       "      <td>https://m.media-amazon.com/images/I/41T4hXOClR...</td>\n",
       "    </tr>\n",
       "    <tr>\n",
       "      <th>12753</th>\n",
       "      <td>CAMOCOAT</td>\n",
       "      <td>Anti Leech Socks (Mud Grey)</td>\n",
       "      <td>https://www.amazon.in/Camocoat-Anti-Leech-Sock...</td>\n",
       "      <td>https://m.media-amazon.com/images/I/71opb02vk2...</td>\n",
       "    </tr>\n",
       "    <tr>\n",
       "      <th>3825</th>\n",
       "      <td>M7 By Metronaut</td>\n",
       "      <td>Solid Men Dark Blue Sports Shorts</td>\n",
       "      <td>https://www.flipkart.com/m7-metronaut-solid-me...</td>\n",
       "      <td>https://rukminim1.flixcart.com/image/612/612/x...</td>\n",
       "    </tr>\n",
       "    <tr>\n",
       "      <th>15042</th>\n",
       "      <td>IZOD</td>\n",
       "      <td>Men's Merino Sweater</td>\n",
       "      <td>https://www.amazon.in/sspa/click?ie=UTF8&amp;spc=M...</td>\n",
       "      <td>https://m.media-amazon.com/images/I/71nRux2Jza...</td>\n",
       "    </tr>\n",
       "    <tr>\n",
       "      <th>2910</th>\n",
       "      <td>Urbano Fashion</td>\n",
       "      <td>Men Slim Mid Rise Dark Blue Jeans</td>\n",
       "      <td>https://www.flipkart.com/urbano-fashion-slim-m...</td>\n",
       "      <td>https://rukminim1.flixcart.com/image/612/612/k...</td>\n",
       "    </tr>\n",
       "    <tr>\n",
       "      <th>26266</th>\n",
       "      <td>arriva fab</td>\n",
       "      <td>women's kutchi work embroidered Exclusive wear...</td>\n",
       "      <td>https://www.amazon.in/arriva-fab-Peacock-Embro...</td>\n",
       "      <td>https://m.media-amazon.com/images/I/91JYyTKEnY...</td>\n",
       "    </tr>\n",
       "    <tr>\n",
       "      <th>6060</th>\n",
       "      <td>AREEBA COLLECTION</td>\n",
       "      <td>Pack of 2 Women Flared, Regular Fit, Relaxed, ...</td>\n",
       "      <td>https://www.flipkart.com/areeba-collection-fla...</td>\n",
       "      <td>https://rukminim1.flixcart.com/image/612/612/x...</td>\n",
       "    </tr>\n",
       "    <tr>\n",
       "      <th>26282</th>\n",
       "      <td>Satrani</td>\n",
       "      <td>Women'S Cotton Blend Dyed, Jari Border Saree W...</td>\n",
       "      <td>https://www.amazon.in/Satrani-WomenS-Cotton-Bo...</td>\n",
       "      <td>https://m.media-amazon.com/images/I/619QoANHA1...</td>\n",
       "    </tr>\n",
       "    <tr>\n",
       "      <th>11349</th>\n",
       "      <td>Levi's</td>\n",
       "      <td>Men's 512 Slim Tapered Fit Jeans</td>\n",
       "      <td>https://www.amazon.in/Levis-Mens-Jeans-36087-0...</td>\n",
       "      <td>https://m.media-amazon.com/images/I/81fQ2LQQ+E...</td>\n",
       "    </tr>\n",
       "    <tr>\n",
       "      <th>4913</th>\n",
       "      <td>Fashion Bazaar</td>\n",
       "      <td>Pack of 3 Women Flared Red, Grey, Blue Lycra B...</td>\n",
       "      <td>https://www.flipkart.com/fashion-bazaar-flared...</td>\n",
       "      <td>https://rukminim1.flixcart.com/image/612/612/l...</td>\n",
       "    </tr>\n",
       "    <tr>\n",
       "      <th>12227</th>\n",
       "      <td>Diverse</td>\n",
       "      <td>Men's Relaxed Jeans</td>\n",
       "      <td>https://www.amazon.in/Diverse-Relaxed-DVD02D1L...</td>\n",
       "      <td>https://m.media-amazon.com/images/I/71Xhg7hBtm...</td>\n",
       "    </tr>\n",
       "    <tr>\n",
       "      <th>16749</th>\n",
       "      <td>Louis Carlo</td>\n",
       "      <td>Men's Half-Sleeve, Sleeveless, V-Neck Woolen S...</td>\n",
       "      <td>https://www.amazon.in/Louis-Carlo-Half-Sleeve-...</td>\n",
       "      <td>https://m.media-amazon.com/images/I/81JsC-ZVDe...</td>\n",
       "    </tr>\n",
       "    <tr>\n",
       "      <th>16198</th>\n",
       "      <td>blackberrys</td>\n",
       "      <td>Men's Casual Slim Fit V-Neck Sweater-EN ERECTA</td>\n",
       "      <td>https://www.amazon.in/blackberrys-Slim-Casual-...</td>\n",
       "      <td>https://m.media-amazon.com/images/I/71OaKWhAIs...</td>\n",
       "    </tr>\n",
       "    <tr>\n",
       "      <th>3324</th>\n",
       "      <td>INDICLUB</td>\n",
       "      <td>Solid Men Dark Green, Light Green Regular Shor...</td>\n",
       "      <td>https://www.flipkart.com/indiclub-solid-men-da...</td>\n",
       "      <td>https://rukminim1.flixcart.com/image/612/612/x...</td>\n",
       "    </tr>\n",
       "    <tr>\n",
       "      <th>11027</th>\n",
       "      <td>Diverse</td>\n",
       "      <td>Men's Relaxed Jeans</td>\n",
       "      <td>https://www.amazon.in/Diverse-Relaxed-DVD02D1L...</td>\n",
       "      <td>https://m.media-amazon.com/images/I/71Xhg7hBtm...</td>\n",
       "    </tr>\n",
       "    <tr>\n",
       "      <th>17366</th>\n",
       "      <td>rytras</td>\n",
       "      <td>Women's Cotton Printed Straight Kurta</td>\n",
       "      <td>https://www.amazon.in/rytras-Womens-Printed-St...</td>\n",
       "      <td>https://m.media-amazon.com/images/I/81jgawQiCW...</td>\n",
       "    </tr>\n",
       "  </tbody>\n",
       "</table>\n",
       "</div>"
      ],
      "text/plain": [
       "                   brand                                        description   \n",
       "16591     Fashion market  Sweater Man Boys 2 In1 Colour Nevy Blue Grey S...  \\\n",
       "4470             Mirayya      Women Regular Fit Black Cotton Blend Trousers   \n",
       "9738               BLIVE  Men's Round Neck Full Sleeve T-Shirt | Printed...   \n",
       "24562          Khadija's  Women's Banarasi Kora Orgenza Silk Saree With ...   \n",
       "22393            Generic  khanak Fashion Women`S Afgani Suit Set,Grey Fl...   \n",
       "12753           CAMOCOAT                        Anti Leech Socks (Mud Grey)   \n",
       "3825     M7 By Metronaut                  Solid Men Dark Blue Sports Shorts   \n",
       "15042               IZOD                               Men's Merino Sweater   \n",
       "2910      Urbano Fashion                  Men Slim Mid Rise Dark Blue Jeans   \n",
       "26266         arriva fab  women's kutchi work embroidered Exclusive wear...   \n",
       "6060   AREEBA COLLECTION  Pack of 2 Women Flared, Regular Fit, Relaxed, ...   \n",
       "26282            Satrani  Women'S Cotton Blend Dyed, Jari Border Saree W...   \n",
       "11349             Levi's                   Men's 512 Slim Tapered Fit Jeans   \n",
       "4913      Fashion Bazaar  Pack of 3 Women Flared Red, Grey, Blue Lycra B...   \n",
       "12227            Diverse                                Men's Relaxed Jeans   \n",
       "16749        Louis Carlo  Men's Half-Sleeve, Sleeveless, V-Neck Woolen S...   \n",
       "16198        blackberrys     Men's Casual Slim Fit V-Neck Sweater-EN ERECTA   \n",
       "3324            INDICLUB  Solid Men Dark Green, Light Green Regular Shor...   \n",
       "11027            Diverse                                Men's Relaxed Jeans   \n",
       "17366             rytras              Women's Cotton Printed Straight Kurta   \n",
       "\n",
       "                                                     url   \n",
       "16591  https://www.amazon.in/Fashion-market-Sweater-C...  \\\n",
       "4470   https://www.flipkart.com/mirayya-regular-fit-w...   \n",
       "9738   https://www.amazon.in/BLIVE-Sleeve-T-Shirt-Pri...   \n",
       "24562  https://www.amazon.in/sspa/click?ie=UTF8&spc=M...   \n",
       "22393  https://www.amazon.in/khanak-Fashion-Women%60S...   \n",
       "12753  https://www.amazon.in/Camocoat-Anti-Leech-Sock...   \n",
       "3825   https://www.flipkart.com/m7-metronaut-solid-me...   \n",
       "15042  https://www.amazon.in/sspa/click?ie=UTF8&spc=M...   \n",
       "2910   https://www.flipkart.com/urbano-fashion-slim-m...   \n",
       "26266  https://www.amazon.in/arriva-fab-Peacock-Embro...   \n",
       "6060   https://www.flipkart.com/areeba-collection-fla...   \n",
       "26282  https://www.amazon.in/Satrani-WomenS-Cotton-Bo...   \n",
       "11349  https://www.amazon.in/Levis-Mens-Jeans-36087-0...   \n",
       "4913   https://www.flipkart.com/fashion-bazaar-flared...   \n",
       "12227  https://www.amazon.in/Diverse-Relaxed-DVD02D1L...   \n",
       "16749  https://www.amazon.in/Louis-Carlo-Half-Sleeve-...   \n",
       "16198  https://www.amazon.in/blackberrys-Slim-Casual-...   \n",
       "3324   https://www.flipkart.com/indiclub-solid-men-da...   \n",
       "11027  https://www.amazon.in/Diverse-Relaxed-DVD02D1L...   \n",
       "17366  https://www.amazon.in/rytras-Womens-Printed-St...   \n",
       "\n",
       "                                                     img  \n",
       "16591  https://m.media-amazon.com/images/I/41tF7GIgYN...  \n",
       "4470   https://rukminim1.flixcart.com/image/612/612/x...  \n",
       "9738   https://m.media-amazon.com/images/I/51QeCqn2+9...  \n",
       "24562  https://m.media-amazon.com/images/I/31j+CM8uF8...  \n",
       "22393  https://m.media-amazon.com/images/I/41T4hXOClR...  \n",
       "12753  https://m.media-amazon.com/images/I/71opb02vk2...  \n",
       "3825   https://rukminim1.flixcart.com/image/612/612/x...  \n",
       "15042  https://m.media-amazon.com/images/I/71nRux2Jza...  \n",
       "2910   https://rukminim1.flixcart.com/image/612/612/k...  \n",
       "26266  https://m.media-amazon.com/images/I/91JYyTKEnY...  \n",
       "6060   https://rukminim1.flixcart.com/image/612/612/x...  \n",
       "26282  https://m.media-amazon.com/images/I/619QoANHA1...  \n",
       "11349  https://m.media-amazon.com/images/I/81fQ2LQQ+E...  \n",
       "4913   https://rukminim1.flixcart.com/image/612/612/l...  \n",
       "12227  https://m.media-amazon.com/images/I/71Xhg7hBtm...  \n",
       "16749  https://m.media-amazon.com/images/I/81JsC-ZVDe...  \n",
       "16198  https://m.media-amazon.com/images/I/71OaKWhAIs...  \n",
       "3324   https://rukminim1.flixcart.com/image/612/612/x...  \n",
       "11027  https://m.media-amazon.com/images/I/71Xhg7hBtm...  \n",
       "17366  https://m.media-amazon.com/images/I/81jgawQiCW...  "
      ]
     },
     "execution_count": 4,
     "metadata": {},
     "output_type": "execute_result"
    }
   ],
   "source": [
    "df.sample(20)"
   ]
  },
  {
   "cell_type": "markdown",
   "id": "fe8d6f66",
   "metadata": {},
   "source": [
    "### Removing Duplicate Rows"
   ]
  },
  {
   "cell_type": "code",
   "execution_count": 5,
   "id": "1cd695fc",
   "metadata": {},
   "outputs": [],
   "source": [
    "df = df.drop_duplicates(subset='description')"
   ]
  },
  {
   "cell_type": "code",
   "execution_count": 6,
   "id": "9ea09893",
   "metadata": {},
   "outputs": [],
   "source": [
    "clothing_df = df[['description','url','img']]"
   ]
  },
  {
   "cell_type": "code",
   "execution_count": 7,
   "id": "c1094e53",
   "metadata": {},
   "outputs": [],
   "source": [
    "clothing_df_copy = clothing_df.copy()"
   ]
  },
  {
   "cell_type": "code",
   "execution_count": 8,
   "id": "f27f264e",
   "metadata": {},
   "outputs": [
    {
     "data": {
      "text/plain": [
       "(1944, 3)"
      ]
     },
     "execution_count": 8,
     "metadata": {},
     "output_type": "execute_result"
    }
   ],
   "source": [
    "clothing_df_copy.shape"
   ]
  },
  {
   "cell_type": "code",
   "execution_count": 9,
   "id": "8a9087bb",
   "metadata": {},
   "outputs": [],
   "source": [
    "clothing_df_copy = clothing_df_copy.drop_duplicates()"
   ]
  },
  {
   "cell_type": "code",
   "execution_count": 10,
   "id": "53ffecf7",
   "metadata": {},
   "outputs": [
    {
     "data": {
      "text/plain": [
       "(1944, 3)"
      ]
     },
     "execution_count": 10,
     "metadata": {},
     "output_type": "execute_result"
    }
   ],
   "source": [
    "clothing_df_copy.shape"
   ]
  },
  {
   "cell_type": "markdown",
   "id": "219772cd",
   "metadata": {},
   "source": [
    "### Text Preprocessing"
   ]
  },
  {
   "cell_type": "code",
   "execution_count": 11,
   "id": "a46d98b1",
   "metadata": {},
   "outputs": [
    {
     "name": "stderr",
     "output_type": "stream",
     "text": [
      "[nltk_data] Downloading package stopwords to C:\\Users\\Harshit\n",
      "[nltk_data]     Kumar\\AppData\\Roaming\\nltk_data...\n",
      "[nltk_data]   Package stopwords is already up-to-date!\n",
      "[nltk_data] Downloading package wordnet to C:\\Users\\Harshit\n",
      "[nltk_data]     Kumar\\AppData\\Roaming\\nltk_data...\n",
      "[nltk_data]   Package wordnet is already up-to-date!\n"
     ]
    }
   ],
   "source": [
    "from nltk.corpus import stopwords    # Import the stopwords module from nltk.corpus\n",
    "from nltk.stem import WordNetLemmatizer   # Import the WordNetLemmatizer class from nltk.stem\n",
    "nltk.download('stopwords')    # Download the stopwords dataset\n",
    "nltk.download('wordnet')\n",
    "lemmatizer = WordNetLemmatizer()    # Create an instance of the PorterStemmer class"
   ]
  },
  {
   "cell_type": "code",
   "execution_count": 12,
   "id": "3f581a29",
   "metadata": {},
   "outputs": [],
   "source": [
    "def clean_text(text:str):\n",
    "    cleaned_text = re.sub('[^a-zA-Z]', ' ', text)  # Remove non-alphabetic characters and replace them with spaces\n",
    "    cleaned_text = cleaned_text.lower()  # Convert the text to lowercase\n",
    "    cleaned_text = cleaned_text.split()  # Split the text into a list of words\n",
    "    cleaned_text = [lemmatizer.lemmatize(word) for word in cleaned_text if not word in stopwords.words('english')]  # Perform lemmetization and remove stopwords\n",
    "    cleaned_text = ' '.join(cleaned_text)  # Join the words back into a single string\n",
    "    return cleaned_text"
   ]
  },
  {
   "cell_type": "code",
   "execution_count": 13,
   "id": "5788372c",
   "metadata": {},
   "outputs": [],
   "source": [
    "# Apply the 'clean_text' function to the 'description' column of the DataFrame\n",
    "# The lambda function 'lambda x: clean_text(x)' is used to apply the 'clean_text' function to each element in the 'description' column\n",
    "# The cleaned text is assigned back to the 'description' column\n",
    "clothing_df['cleaned_description'] = clothing_df['description'].apply(clean_text)"
   ]
  },
  {
   "cell_type": "code",
   "execution_count": 14,
   "id": "eea9b43e",
   "metadata": {},
   "outputs": [
    {
     "data": {
      "text/html": [
       "<div>\n",
       "<style scoped>\n",
       "    .dataframe tbody tr th:only-of-type {\n",
       "        vertical-align: middle;\n",
       "    }\n",
       "\n",
       "    .dataframe tbody tr th {\n",
       "        vertical-align: top;\n",
       "    }\n",
       "\n",
       "    .dataframe thead th {\n",
       "        text-align: right;\n",
       "    }\n",
       "</style>\n",
       "<table border=\"1\" class=\"dataframe\">\n",
       "  <thead>\n",
       "    <tr style=\"text-align: right;\">\n",
       "      <th></th>\n",
       "      <th>description</th>\n",
       "      <th>url</th>\n",
       "      <th>img</th>\n",
       "      <th>cleaned_description</th>\n",
       "    </tr>\n",
       "  </thead>\n",
       "  <tbody>\n",
       "    <tr>\n",
       "      <th>0</th>\n",
       "      <td>Men Regular Fit Printed Casual Shirt</td>\n",
       "      <td>https://www.flipkart.com/solbiza-men-printed-c...</td>\n",
       "      <td>https://rukminim1.flixcart.com/image/612/612/x...</td>\n",
       "      <td>men regular fit printed casual shirt</td>\n",
       "    </tr>\n",
       "    <tr>\n",
       "      <th>1</th>\n",
       "      <td>Men Regular Fit Checkered Spread Collar Casual...</td>\n",
       "      <td>https://www.flipkart.com/roadster-men-checkere...</td>\n",
       "      <td>https://rukminim1.flixcart.com/image/612/612/k...</td>\n",
       "      <td>men regular fit checkered spread collar casual...</td>\n",
       "    </tr>\n",
       "    <tr>\n",
       "      <th>2</th>\n",
       "      <td>Men Solid Polo Neck Green T-Shirt</td>\n",
       "      <td>https://www.flipkart.com/3bros-solid-men-polo-...</td>\n",
       "      <td>https://rukminim1.flixcart.com/image/612/612/x...</td>\n",
       "      <td>men solid polo neck green shirt</td>\n",
       "    </tr>\n",
       "    <tr>\n",
       "      <th>3</th>\n",
       "      <td>Pack of 2 Men Striped Round Neck Dark Blue, Re...</td>\n",
       "      <td>https://www.flipkart.com/blive-striped-men-rou...</td>\n",
       "      <td>https://rukminim1.flixcart.com/image/612/612/x...</td>\n",
       "      <td>pack men striped round neck dark blue red shirt</td>\n",
       "    </tr>\n",
       "    <tr>\n",
       "      <th>4</th>\n",
       "      <td>Men Printed Round Neck Light Blue T-Shirt</td>\n",
       "      <td>https://www.flipkart.com/nb-nicky-boy-printed-...</td>\n",
       "      <td>https://rukminim1.flixcart.com/image/612/612/x...</td>\n",
       "      <td>men printed round neck light blue shirt</td>\n",
       "    </tr>\n",
       "    <tr>\n",
       "      <th>...</th>\n",
       "      <td>...</td>\n",
       "      <td>...</td>\n",
       "      <td>...</td>\n",
       "      <td>...</td>\n",
       "    </tr>\n",
       "    <tr>\n",
       "      <th>24616</th>\n",
       "      <td>BANARASI SAREE</td>\n",
       "      <td>https://www.amazon.in/sspa/click?ie=UTF8&amp;spc=M...</td>\n",
       "      <td>https://m.media-amazon.com/images/I/41mGiLUh4Z...</td>\n",
       "      <td>banarasi saree</td>\n",
       "    </tr>\n",
       "    <tr>\n",
       "      <th>24617</th>\n",
       "      <td>Paithani Kanjeevaram Banarasi Silk Saree with ...</td>\n",
       "      <td>https://www.amazon.in/sspa/click?ie=UTF8&amp;spc=M...</td>\n",
       "      <td>https://m.media-amazon.com/images/I/515jszyd9L...</td>\n",
       "      <td>paithani kanjeevaram banarasi silk saree unsti...</td>\n",
       "    </tr>\n",
       "    <tr>\n",
       "      <th>24618</th>\n",
       "      <td>URVASHI RAUTELA A NEW EMBRODERY SEQUENCE DESIGNER</td>\n",
       "      <td>https://www.amazon.in/sspa/click?ie=UTF8&amp;spc=M...</td>\n",
       "      <td>https://m.media-amazon.com/images/I/51lDrsAQkj...</td>\n",
       "      <td>urvashi rautela new embrodery sequence designer</td>\n",
       "    </tr>\n",
       "    <tr>\n",
       "      <th>24619</th>\n",
       "      <td>SUPERHIT TREDING VICHITRA SILK SAREE &amp; JACQUAR...</td>\n",
       "      <td>https://www.amazon.in/sspa/click?ie=UTF8&amp;spc=M...</td>\n",
       "      <td>https://m.media-amazon.com/images/I/71zUg3Lk+M...</td>\n",
       "      <td>superhit treding vichitra silk saree jacquard ...</td>\n",
       "    </tr>\n",
       "    <tr>\n",
       "      <th>26539</th>\n",
       "      <td>Bandhani Saree</td>\n",
       "      <td>https://www.amazon.in/sspa/click?ie=UTF8&amp;spc=M...</td>\n",
       "      <td>https://m.media-amazon.com/images/I/71EZKTqrON...</td>\n",
       "      <td>bandhani saree</td>\n",
       "    </tr>\n",
       "  </tbody>\n",
       "</table>\n",
       "<p>1944 rows × 4 columns</p>\n",
       "</div>"
      ],
      "text/plain": [
       "                                             description   \n",
       "0                   Men Regular Fit Printed Casual Shirt  \\\n",
       "1      Men Regular Fit Checkered Spread Collar Casual...   \n",
       "2                      Men Solid Polo Neck Green T-Shirt   \n",
       "3      Pack of 2 Men Striped Round Neck Dark Blue, Re...   \n",
       "4              Men Printed Round Neck Light Blue T-Shirt   \n",
       "...                                                  ...   \n",
       "24616                                     BANARASI SAREE   \n",
       "24617  Paithani Kanjeevaram Banarasi Silk Saree with ...   \n",
       "24618  URVASHI RAUTELA A NEW EMBRODERY SEQUENCE DESIGNER   \n",
       "24619  SUPERHIT TREDING VICHITRA SILK SAREE & JACQUAR...   \n",
       "26539                                     Bandhani Saree   \n",
       "\n",
       "                                                     url   \n",
       "0      https://www.flipkart.com/solbiza-men-printed-c...  \\\n",
       "1      https://www.flipkart.com/roadster-men-checkere...   \n",
       "2      https://www.flipkart.com/3bros-solid-men-polo-...   \n",
       "3      https://www.flipkart.com/blive-striped-men-rou...   \n",
       "4      https://www.flipkart.com/nb-nicky-boy-printed-...   \n",
       "...                                                  ...   \n",
       "24616  https://www.amazon.in/sspa/click?ie=UTF8&spc=M...   \n",
       "24617  https://www.amazon.in/sspa/click?ie=UTF8&spc=M...   \n",
       "24618  https://www.amazon.in/sspa/click?ie=UTF8&spc=M...   \n",
       "24619  https://www.amazon.in/sspa/click?ie=UTF8&spc=M...   \n",
       "26539  https://www.amazon.in/sspa/click?ie=UTF8&spc=M...   \n",
       "\n",
       "                                                     img   \n",
       "0      https://rukminim1.flixcart.com/image/612/612/x...  \\\n",
       "1      https://rukminim1.flixcart.com/image/612/612/k...   \n",
       "2      https://rukminim1.flixcart.com/image/612/612/x...   \n",
       "3      https://rukminim1.flixcart.com/image/612/612/x...   \n",
       "4      https://rukminim1.flixcart.com/image/612/612/x...   \n",
       "...                                                  ...   \n",
       "24616  https://m.media-amazon.com/images/I/41mGiLUh4Z...   \n",
       "24617  https://m.media-amazon.com/images/I/515jszyd9L...   \n",
       "24618  https://m.media-amazon.com/images/I/51lDrsAQkj...   \n",
       "24619  https://m.media-amazon.com/images/I/71zUg3Lk+M...   \n",
       "26539  https://m.media-amazon.com/images/I/71EZKTqrON...   \n",
       "\n",
       "                                     cleaned_description  \n",
       "0                   men regular fit printed casual shirt  \n",
       "1      men regular fit checkered spread collar casual...  \n",
       "2                        men solid polo neck green shirt  \n",
       "3        pack men striped round neck dark blue red shirt  \n",
       "4                men printed round neck light blue shirt  \n",
       "...                                                  ...  \n",
       "24616                                     banarasi saree  \n",
       "24617  paithani kanjeevaram banarasi silk saree unsti...  \n",
       "24618    urvashi rautela new embrodery sequence designer  \n",
       "24619  superhit treding vichitra silk saree jacquard ...  \n",
       "26539                                     bandhani saree  \n",
       "\n",
       "[1944 rows x 4 columns]"
      ]
     },
     "execution_count": 14,
     "metadata": {},
     "output_type": "execute_result"
    }
   ],
   "source": [
    "clothing_df"
   ]
  },
  {
   "cell_type": "markdown",
   "id": "70d9ed31",
   "metadata": {},
   "source": [
    "### Vectorizing Textual Data"
   ]
  },
  {
   "cell_type": "code",
   "execution_count": 15,
   "id": "bfcacb1f",
   "metadata": {},
   "outputs": [],
   "source": [
    "from sklearn.feature_extraction.text import CountVectorizer\n",
    "cv = CountVectorizer(max_features=5000,stop_words='english')"
   ]
  },
  {
   "cell_type": "code",
   "execution_count": 16,
   "id": "21277cd3",
   "metadata": {},
   "outputs": [],
   "source": [
    "from sklearn.metrics.pairwise import cosine_similarity"
   ]
  },
  {
   "cell_type": "code",
   "execution_count": 17,
   "id": "af337e5e",
   "metadata": {},
   "outputs": [],
   "source": [
    "def recommend_clothes(text:str,top_num:int):\n",
    "    # Clean the input text by removing non-alphabetic characters\n",
    "    cleaned_text = re.sub('[^a-zA-Z]', ' ', text)\n",
    "    \n",
    "    # Convert the text to lowercase\n",
    "    cleaned_text = cleaned_text.lower()\n",
    "    \n",
    "    # Split the text into individual words\n",
    "    cleaned_text = cleaned_text.split()\n",
    "    \n",
    "    # Lemmatize the words and remove stopwords\n",
    "    cleaned_text = [lemmatizer.lemmatize(word) for word in cleaned_text if not word in stopwords.words('english')]\n",
    "    \n",
    "    # Join the cleaned words back into a string\n",
    "    cleaned_text = ' '.join(cleaned_text)\n",
    "    \n",
    "    # Create a Pandas Series with the cleaned text\n",
    "    cleaned_text_as_series = pd.Series([cleaned_text])\n",
    "    \n",
    "    # Get the existing descriptions from the clothing dataframe\n",
    "    descriptions = clothing_df['cleaned_description']\n",
    "    \n",
    "    # Concatenate the existing descriptions with the cleaned text series\n",
    "    decription_with_new_text = pd.concat([descriptions,cleaned_text_as_series]).reset_index(drop=True)\n",
    "    \n",
    "    # Vectorize the descriptions using CountVectorizer\n",
    "    vectors = cv.fit_transform(decription_with_new_text).toarray()\n",
    "    \n",
    "    # Compute the cosine similarity scores between vectors\n",
    "    similarity_scores = cosine_similarity(vectors)\n",
    "    \n",
    "    # Find the index of the input description in the concatenated series\n",
    "    input_description_index = decription_with_new_text[decription_with_new_text==cleaned_text].index[0]\n",
    "    \n",
    "    # Get the similarity scores of the input description with other descriptions\n",
    "    distances = similarity_scores[input_description_index]\n",
    "    \n",
    "    # Get the indices and distances of the top similar clothing items\n",
    "    clothing_items_list = sorted(list(enumerate(distances)),reverse=True,key=lambda x:x[1])[1:top_num+1]\n",
    "    \n",
    "    # Get the details of the top similar clothing items from the dataframe\n",
    "    clothing_item_details = [(clothing_df.iloc[each[0]]).to_dict() for each in clothing_items_list]\n",
    "    \n",
    "    # Exclude the input description from the list of descriptions\n",
    "    descriptions = descriptions[descriptions!=cleaned_text]\n",
    "    \n",
    "    # Return the details of the recommended clothing items\n",
    "    return clothing_item_details\n"
   ]
  },
  {
   "cell_type": "code",
   "execution_count": 18,
   "id": "1ab49a86",
   "metadata": {},
   "outputs": [],
   "source": [
    "cl = recommend_clothes('track pants',5)"
   ]
  },
  {
   "cell_type": "code",
   "execution_count": 24,
   "id": "06707e25",
   "metadata": {},
   "outputs": [
    {
     "data": {
      "text/plain": [
       "[{'description': 'Men Striped Green Track Pants',\n",
       "  'url': 'https://www.flipkart.com/pivl-striped-men-green-track-pants/p/itmb3502a99455a9?pid=TKPGFDB5Z2B42MXM&lid=LSTTKPGFDB5Z2B42MXMIZYHNL&marketplace=FLIPKART&store=clo%2Fvua%2Fjlk%2F6ql&srno=b_1_15&otracker=browse&fm=organic&iid=57582162-361e-4bb4-bd85-17b3a7f0f026.TKPGFDB5Z2B42MXM.SEARCH&ppt=None&ppn=None&ssid=ojq1ykf3s00000001684618943056',\n",
       "  'img': 'https://rukminim1.flixcart.com/image/612/612/l55nekw0/track-pant/m/6/9/xxl-pv-5201-saze-pivl-original-imagfw94wtjpg49d.jpeg?q=70',\n",
       "  'cleaned_description': 'men striped green track pant'},\n",
       " {'description': 'Men Solid Black Track Pants',\n",
       "  'url': 'https://www.flipkart.com/jugular-solid-men-black-track-pants/p/itmc449c75277ee3?pid=TKPFKG92FZKJ6S2E&lid=LSTTKPFKG92FZKJ6S2EPRM9SW&marketplace=FLIPKART&store=clo%2Fvua%2Fjlk%2F6ql&srno=b_1_16&otracker=browse&fm=organic&iid=57582162-361e-4bb4-bd85-17b3a7f0f026.TKPFKG92FZKJ6S2E.SEARCH&ppt=None&ppn=None&ssid=ojq1ykf3s00000001684618943056',\n",
       "  'img': 'https://rukminim1.flixcart.com/image/612/612/xif0q/track-pant/s/2/e/l-1jg-jog-cargo-blk-jugular-original-imafkgqdb9kk8wrb-bb.jpeg?q=70',\n",
       "  'cleaned_description': 'men solid black track pant'},\n",
       " {'description': 'Men Printed Black Track Pants',\n",
       "  'url': 'https://www.flipkart.com/tripr-printed-men-black-track-pants/p/itmaeeaab63a5408?pid=TKPGMEGYDREVTVET&lid=LSTTKPGMEGYDREVTVETM0JUU4&marketplace=FLIPKART&store=clo%2Fvua%2Fjlk%2F6ql&srno=b_1_25&otracker=browse&fm=organic&iid=57582162-361e-4bb4-bd85-17b3a7f0f026.TKPGMEGYDREVTVET.SEARCH&ppt=None&ppn=None&ssid=ojq1ykf3s00000001684618943056',\n",
       "  'img': 'https://rukminim1.flixcart.com/image/612/612/xif0q/track-pant/g/l/3/m-tbljog-j36-tripr-original-imagmegyvv35fkgy.jpeg?q=70',\n",
       "  'cleaned_description': 'men printed black track pant'},\n",
       " {'description': 'Men Solid Multicolor Track Pants',\n",
       "  'url': 'https://www.flipkart.com/acton-wilmer-solid-men-multicolor-track-pants/p/itmdf89514da5f04?pid=TKPG35BTR7UWFGES&lid=LSTTKPG35BTR7UWFGESLNQCVI&marketplace=FLIPKART&store=clo%2Fvua%2Fjlk%2F6ql&srno=b_1_30&otracker=browse&fm=organic&iid=57582162-361e-4bb4-bd85-17b3a7f0f026.TKPG35BTR7UWFGES.SEARCH&ppt=None&ppn=None&ssid=ojq1ykf3s00000001684618943056',\n",
       "  'img': 'https://rukminim1.flixcart.com/image/612/612/korijrk0/track-pant/x/9/r/36-aw-printed-001-acton-wilmer-original-imag35bt9dyhqzfe.jpeg?q=70',\n",
       "  'cleaned_description': 'men solid multicolor track pant'},\n",
       " {'description': 'Men Solid Grey Track Pants',\n",
       "  'url': 'https://www.flipkart.com/heradawn-solid-men-grey-track-pants/p/itm895843d77b939?pid=TKPG7CPJZJGQSGUW&lid=LSTTKPG7CPJZJGQSGUWDBRJ90&marketplace=FLIPKART&store=clo%2Fvua%2Fjlk%2F6ql&srno=b_1_31&otracker=browse&fm=organic&iid=en_tlWZOLQjVDvk5bKH0tOFxoetyI6iAULXCYXrd9eOwAZdg%2FwTAbyhJPUiUkGXVO2q4tCwTmCYtHYUCKsOZ%2FkWuA%3D%3D&ppt=None&ppn=None&ssid=ojq1ykf3s00000001684618943056',\n",
       "  'img': 'https://rukminim1.flixcart.com/image/612/612/xif0q/track-pant/e/l/r/xxl-ll-lg-xxl-heradawn-original-imag7cpj7pmdabtv-bb.jpeg?q=70',\n",
       "  'cleaned_description': 'men solid grey track pant'}]"
      ]
     },
     "execution_count": 24,
     "metadata": {},
     "output_type": "execute_result"
    }
   ],
   "source": [
    "cl"
   ]
  },
  {
   "cell_type": "code",
   "execution_count": 25,
   "id": "b158f9f9",
   "metadata": {},
   "outputs": [],
   "source": [
    "import pickle\n",
    "\n",
    "# Save the 'clothing_df' DataFrame using pickle\n",
    "pickle.dump(clothing_df, open('clothing_df.pkl', 'wb'))\n"
   ]
  },
  {
   "cell_type": "code",
   "execution_count": null,
   "id": "f627895f",
   "metadata": {},
   "outputs": [],
   "source": []
  },
  {
   "cell_type": "code",
   "execution_count": null,
   "id": "05ec0554",
   "metadata": {},
   "outputs": [],
   "source": []
  }
 ],
 "metadata": {
  "kernelspec": {
   "display_name": "Python 3 (ipykernel)",
   "language": "python",
   "name": "python3"
  },
  "language_info": {
   "codemirror_mode": {
    "name": "ipython",
    "version": 3
   },
   "file_extension": ".py",
   "mimetype": "text/x-python",
   "name": "python",
   "nbconvert_exporter": "python",
   "pygments_lexer": "ipython3",
   "version": "3.10.8"
  }
 },
 "nbformat": 4,
 "nbformat_minor": 5
}
